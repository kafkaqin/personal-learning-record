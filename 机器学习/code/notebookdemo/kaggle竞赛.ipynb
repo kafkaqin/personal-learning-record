{
 "cells": [
  {
   "cell_type": "code",
   "execution_count": null,
   "id": "37763ad7",
   "metadata": {},
   "outputs": [],
   "source": [
    "import hashlib\n",
    "import os \n",
    "import tarfile\n",
    "import zipfile\n",
    "import requests\n",
    "\n",
    "DATA_HUB = dict()\n",
    "DATA_URL = 'http://d2l-data.s3-accelerate.amazonaws.com/'\n",
    "def dowlnload(name,cache_dir=os.path.join('..','data')):\n",
    "    assert name in DATA_HUB,f'{name} 不存在于 {DATA_HUB}'\n",
    "    url,sha1_hash = DATA_HUB[name]\n",
    "    os.makedirs(cache_dir,exist_ok=True)\n",
    "    fname = os.path.join(cache_dir,url.split('/')[-1])\n",
    "    if oa.path.exists(fname):\n",
    "        sha1 = hashlib.sha1()\n",
    "        with open(fname,'rb') as f:\n",
    "            while True:\n",
    "                data = f.read(1048576)\n",
    "                "
   ]
  },
  {
   "cell_type": "code",
   "execution_count": null,
   "id": "d5b3a466",
   "metadata": {},
   "outputs": [],
   "source": []
  }
 ],
 "metadata": {
  "kernelspec": {
   "display_name": "Python 3 (ipykernel)",
   "language": "python",
   "name": "python3"
  },
  "language_info": {
   "codemirror_mode": {
    "name": "ipython",
    "version": 3
   },
   "file_extension": ".py",
   "mimetype": "text/x-python",
   "name": "python",
   "nbconvert_exporter": "python",
   "pygments_lexer": "ipython3",
   "version": "3.11.5"
  }
 },
 "nbformat": 4,
 "nbformat_minor": 5
}
