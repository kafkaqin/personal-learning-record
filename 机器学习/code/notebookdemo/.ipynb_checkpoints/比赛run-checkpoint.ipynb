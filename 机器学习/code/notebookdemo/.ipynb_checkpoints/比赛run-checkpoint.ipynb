{
 "cells": [
  {
   "cell_type": "code",
   "execution_count": 2,
   "id": "336f9e68",
   "metadata": {},
   "outputs": [
    {
     "ename": "ModuleNotFoundError",
     "evalue": "No module named 'autogluon'",
     "output_type": "error",
     "traceback": [
      "\u001b[0;31m---------------------------------------------------------------------------\u001b[0m",
      "\u001b[0;31mModuleNotFoundError\u001b[0m                       Traceback (most recent call last)",
      "Cell \u001b[0;32mIn[2], line 1\u001b[0m\n\u001b[0;32m----> 1\u001b[0m \u001b[38;5;28;01mfrom\u001b[39;00m \u001b[38;5;21;01mautogluon\u001b[39;00m\u001b[38;5;21;01m.\u001b[39;00m\u001b[38;5;21;01mtarbular\u001b[39;00m \u001b[38;5;28;01mimport\u001b[39;00m TabularDataset,TabularPredictor\n\u001b[1;32m      2\u001b[0m \u001b[38;5;28;01mimport\u001b[39;00m \u001b[38;5;21;01mnumpy\u001b[39;00m \u001b[38;5;28;01mas\u001b[39;00m \u001b[38;5;21;01mnp\u001b[39;00m \n\u001b[1;32m      3\u001b[0m train_data \u001b[38;5;241m=\u001b[39m TabularDataset(\u001b[38;5;124m'\u001b[39m\u001b[38;5;124mtrain.csv\u001b[39m\u001b[38;5;124m'\u001b[39m)\n",
      "\u001b[0;31mModuleNotFoundError\u001b[0m: No module named 'autogluon'"
     ]
    }
   ],
   "source": [
    "from autogluon.tarbular import TabularDataset,TabularPredictor\n",
    "import numpy as np \n",
    "train_data = TabularDataset('train.csv')\n",
    "id,label = 'Id','Sold Price'\n",
    "large_val_cols = ['Lot','Total interior livable area',\n",
    "                  'Tax assesed value','Annual tax amount',\n",
    "                  'Listed Price','Last Sold Price']\n",
    "for c in large_val_cols + [label]:\n",
    "    train_data[c] = np.log(train_data[c]+1)\n",
    "predictor = TabularPredictor(label=label).fit(train_data.drop(columns=[id]),hyperparameters='multimodal',\n",
    "                                             num_stack_levels=1,num_bag_folds=5)"
   ]
  },
  {
   "cell_type": "code",
   "execution_count": null,
   "id": "a158c5d1",
   "metadata": {},
   "outputs": [],
   "source": []
  }
 ],
 "metadata": {
  "kernelspec": {
   "display_name": "Python 3 (ipykernel)",
   "language": "python",
   "name": "python3"
  },
  "language_info": {
   "codemirror_mode": {
    "name": "ipython",
    "version": 3
   },
   "file_extension": ".py",
   "mimetype": "text/x-python",
   "name": "python",
   "nbconvert_exporter": "python",
   "pygments_lexer": "ipython3",
   "version": "3.11.5"
  }
 },
 "nbformat": 4,
 "nbformat_minor": 5
}
