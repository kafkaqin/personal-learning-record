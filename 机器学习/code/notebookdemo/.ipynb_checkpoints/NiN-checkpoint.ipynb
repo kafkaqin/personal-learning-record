{
 "cells": [
  {
   "cell_type": "code",
   "execution_count": null,
   "id": "92c6dffa",
   "metadata": {},
   "outputs": [],
   "source": [
    "import torch\n",
    "from torch import nn \n",
    "from d2l import torch as d2l \n",
    "\n",
    "def nin_block(in_channels,out_channels,kernel_size,strides,padding):\n",
    "    return nn.Sequential(\n",
    "    nn.Conv2d(in_channels,out_channels,kernel_size,strides,padding),\n",
    "    nn.ReLU(),nn.Conv2d(out_channels,out_channels,kernel_size=1),\n",
    "    nn.ReLU(),nn.Conv2d(out_channels,out_channels,kernel_size=1),\n",
    "    nn.ReLU())"
   ]
  }
 ],
 "metadata": {
  "kernelspec": {
   "display_name": "Python 3 (ipykernel)",
   "language": "python",
   "name": "python3"
  },
  "language_info": {
   "codemirror_mode": {
    "name": "ipython",
    "version": 3
   },
   "file_extension": ".py",
   "mimetype": "text/x-python",
   "name": "python",
   "nbconvert_exporter": "python",
   "pygments_lexer": "ipython3",
   "version": "3.11.5"
  }
 },
 "nbformat": 4,
 "nbformat_minor": 5
}
